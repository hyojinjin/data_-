{
  "nbformat": 4,
  "nbformat_minor": 0,
  "metadata": {
    "colab": {
      "provenance": [],
      "include_colab_link": true
    },
    "kernelspec": {
      "name": "python3",
      "display_name": "Python 3"
    },
    "language_info": {
      "name": "python"
    }
  },
  "cells": [
    {
      "cell_type": "markdown",
      "metadata": {
        "id": "view-in-github",
        "colab_type": "text"
      },
      "source": [
        "<a href=\"https://colab.research.google.com/github/hyojinjin/data_-/blob/main/11_NormalityTest_SWtest_KStest.ipynb\" target=\"_parent\"><img src=\"https://colab.research.google.com/assets/colab-badge.svg\" alt=\"Open In Colab\"/></a>"
      ]
    },
    {
      "cell_type": "markdown",
      "source": [
        "## 💦🔥 **Normality test**\n",
        "\n",
        "1. Small sample size (N<50), which is comparable to **Shapiro-Wilk** test on SPSS\n",
        "\n",
        "2. Big sample size (N>50), which is comparable to **Kolmogorov-Smirnov** test on SPSS\n",
        "\n"
      ],
      "metadata": {
        "id": "NJ08d_uKSFuM"
      }
    },
    {
      "cell_type": "markdown",
      "source": [
        "# <font color = 'green'> **1️⃣  Small Sample Size (N < 50)**\n",
        "    **Be** aware that the following script generates different results for everyone running it!"
      ],
      "metadata": {
        "id": "ORCNnHH_10vs"
      }
    },
    {
      "cell_type": "markdown",
      "source": [
        "## CTT (Critical Test Threshold)\n",
        "\n",
        "- The p-value represents the probability of observing the test statistic (or more extreme) under the assumption that the null hypothesis is true. However, it doesn't provide information about the size of the effect or the practical significance of the result.\n",
        "\n",
        "- On the other hand, the critical test threshold (CTT) is the predetermined significance level (often denoted as alpha) at which you're willing to reject the null hypothesis. It is typically set to 0.05."
      ],
      "metadata": {
        "id": "NBV0cLff730W"
      }
    },
    {
      "cell_type": "code",
      "source": [
        "import numpy as np\n",
        "import pandas as pd\n",
        "import seaborn as sns\n",
        "from scipy.stats import shapiro\n",
        "data1 = np.random.normal(loc=0, scale=1, size=50)\n",
        "print(data1)\n",
        "print('\\n')"
      ],
      "metadata": {
        "id": "Ev1FrrHYc7VZ",
        "outputId": "9e1e0f6d-aa49-4ef5-d3fd-ad5eb8a22efa",
        "colab": {
          "base_uri": "https://localhost:8080/"
        }
      },
      "execution_count": 3,
      "outputs": [
        {
          "output_type": "stream",
          "name": "stdout",
          "text": [
            "[-1.00139049e+00 -1.09419511e+00  4.28587359e-01  2.49559491e-02\n",
            "  1.13089694e+00 -4.23526202e-01 -4.17799170e-01  2.81413515e-01\n",
            "  1.26792972e+00 -5.19296941e-01  2.79773015e-01 -7.94242937e-04\n",
            "  2.22449441e+00 -1.23120243e+00  1.13648998e+00  2.03787155e-01\n",
            "  1.00801726e+00  6.83045606e-01  2.97959550e-02 -1.47514905e+00\n",
            " -1.27594660e+00  1.29396893e+00 -1.56140244e-01 -3.10707840e-01\n",
            "  1.18771372e+00  1.83488902e-01 -2.56563394e-02  9.48382370e-01\n",
            "  7.10380908e-01  5.39915976e-01 -1.07922858e+00 -8.02429235e-02\n",
            " -8.19716429e-01  2.10307454e-01  1.25506443e-01 -4.72467428e-01\n",
            " -1.18261922e-01  7.46831525e-01  9.24803407e-01  8.79984017e-01\n",
            " -4.42001871e-03 -5.36666730e-01 -1.34950824e+00  1.45289189e+00\n",
            " -2.46287474e-01 -7.43202019e-01 -6.19274073e-01  5.80656410e-01\n",
            " -1.89409084e+00 -5.48201457e-01]\n",
            "\n",
            "\n"
          ]
        }
      ]
    },
    {
      "cell_type": "code",
      "execution_count": null,
      "metadata": {
        "id": "3454tysCMAaw",
        "colab": {
          "base_uri": "https://localhost:8080/"
        },
        "outputId": "0ac087b2-2714-4fec-f560-0c870864a76c"
      },
      "outputs": [
        {
          "output_type": "stream",
          "name": "stdout",
          "text": [
            "[ 1.94537734e+00 -6.47008451e-01 -5.18260314e-01 -1.38867522e-01\n",
            " -1.17450895e-01 -1.28681283e+00 -2.06157005e+00 -5.04221459e-01\n",
            " -2.12263906e-01 -1.85914171e+00  6.70435370e-01 -8.89579496e-01\n",
            "  7.49861458e-01  4.97485994e-02  2.34902556e-01  3.31795599e-02\n",
            " -7.67528676e-01  6.96005712e-01  1.18721298e-02 -1.35259856e+00\n",
            "  1.06617075e+00  6.89725666e-01  8.20430727e-02  1.84871339e+00\n",
            " -7.63129388e-01  1.56645050e+00 -1.32339289e+00 -2.40144084e-03\n",
            "  6.50400629e-01 -6.42479152e-01 -1.04118062e+00  4.16158249e-01\n",
            " -1.68703822e+00 -9.06258325e-02  1.38797049e+00  4.70293646e-01\n",
            " -1.07972760e+00 -2.34283338e-01  1.33717821e+00  1.79087409e-01\n",
            " -5.37775608e-01  2.11908161e+00  7.41514865e-01  7.91811910e-01\n",
            "  3.26471064e-01 -1.82389694e+00  2.86220143e+00 -4.53004043e-01\n",
            "  7.38533082e-01  1.98711904e-01]\n",
            "\n",
            "\n",
            "      Values\n",
            "0   1.945377\n",
            "1  -0.647008\n",
            "2  -0.518260\n",
            "3  -0.138868\n",
            "4  -0.117451\n",
            "5  -1.286813\n",
            "6  -2.061570\n",
            "7  -0.504221\n",
            "8  -0.212264\n",
            "9  -1.859142\n",
            "10  0.670435\n",
            "11 -0.889579\n",
            "12  0.749861\n",
            "13  0.049749\n",
            "14  0.234903\n",
            "15  0.033180\n",
            "16 -0.767529\n",
            "17  0.696006\n",
            "18  0.011872\n",
            "19 -1.352599\n",
            "20  1.066171\n",
            "21  0.689726\n",
            "22  0.082043\n",
            "23  1.848713\n",
            "24 -0.763129\n",
            "25  1.566450\n",
            "26 -1.323393\n",
            "27 -0.002401\n",
            "28  0.650401\n",
            "29 -0.642479\n",
            "30 -1.041181\n",
            "31  0.416158\n",
            "32 -1.687038\n",
            "33 -0.090626\n",
            "34  1.387970\n",
            "35  0.470294\n",
            "36 -1.079728\n",
            "37 -0.234283\n",
            "38  1.337178\n",
            "39  0.179087\n",
            "40 -0.537776\n",
            "41  2.119082\n",
            "42  0.741515\n",
            "43  0.791812\n",
            "44  0.326471\n",
            "45 -1.823897\n",
            "46  2.862201\n",
            "47 -0.453004\n",
            "48  0.738533\n",
            "49  0.198712\n",
            "\n",
            "\n",
            "Shapiro-Wilk Test Statistic: 0.986647367477417\n",
            "p-value: 0.8394623398780823\n",
            "Sample looks Gaussian (fail to reject H0)\n"
          ]
        }
      ],
      "source": [
        "import numpy as np # numeric calculation\n",
        "import pandas as pd # data analysis\n",
        "import seaborn as sns\n",
        "from scipy.stats import shapiro # stats\n",
        "\n",
        "# Generate a random dataset (replace this with your own data)\n",
        "# 🔔 The following code line generates random numbers from a normal (Gaussian) distribution using NumPy's random.normal function.\n",
        "# 🔔 loc=0, scale=1, size=50 (creating an array of 50 numbers drawn from a normal distribution with a mean (loc) of 0 and a standard deviation (scale) of 1.\n",
        "data1 = np.random.normal(loc=0, scale=1, size=50)\n",
        "print(data1)\n",
        "print('\\n')\n",
        "\n",
        "# Convert the data to a pandas DataFrame\n",
        "df = pd.DataFrame(data1, columns=['Values'])\n",
        "print(df)\n",
        "print('\\n')\n",
        "\n",
        "# Save the DataFrame to a CSV file\n",
        "df.to_csv('generated_data1.csv', index=True) # index=True for inncluding index\n",
        "\n",
        "# Perform Shapiro-Wilk test for normality\n",
        "# 🔔 Tuple unpacking: shapiro() function returns a tuple containing two values: the test statistic and the p-value.\n",
        "# By separating statistic and p_value with a comma, Python interprets the returned tuple and assigns each value to its corresponding variable.\n",
        "statistic, p_value = shapiro(data1)\n",
        "\n",
        "# Print the test statistic and p-value\n",
        "print(\"Shapiro-Wilk Test Statistic:\", statistic)\n",
        "print(\"p-value:\", p_value)\n",
        "\n",
        "# Define the CTT (critical test threshold, aka., alpha)\n",
        "alpha = 0.05\n",
        "\n",
        "# Interpret the result\n",
        "if p_value > alpha:\n",
        "    print(\"Sample looks Gaussian (fail to reject H0)\")\n",
        "else:\n",
        "    print(\"Sample does not look Gaussian (reject H0)\")\n",
        "\n"
      ]
    },
    {
      "cell_type": "markdown",
      "source": [
        "# <font color = 'green'> **2️⃣ Big Sample Size (N > 50)**\n",
        "    Be aware that the following script generates different results for everyone running it!"
      ],
      "metadata": {
        "id": "K3wroDBt2Bhz"
      }
    },
    {
      "cell_type": "code",
      "source": [
        "import numpy as np # numeric calculation\n",
        "import pandas as pd # data analysis\n",
        "import seaborn as sns\n",
        "from scipy.stats import kstest, norm # stats\n",
        "\n",
        "\n",
        "# Generate a random dataset (replace this with your own data)\n",
        "# loc=0, scale=1, size=100 (creating an array of 100 numbers drawn from a normal distribution with a mean (loc) of 0 and a standard deviation (scale) of 1.\n",
        "data2 = np.random.normal(loc=0, scale=1, size=100)\n",
        "print(data2)\n",
        "print('\\n')\n",
        "\n",
        "# Convert the data to a pandas DataFrame\n",
        "df = pd.DataFrame(data2, columns=['Values'])\n",
        "print(df)\n",
        "print('\\n')\n",
        "\n",
        "# Save the DataFrame to a CSV file\n",
        "df.to_csv('generated_data2.csv', index=True)\n",
        "\n",
        "# Perform Shapiro-Wilk test for normality\n",
        "statistic, p_value = kstest(data2, 'norm')\n",
        "\n",
        "# Print the test statistic and p-value\n",
        "print(\"Kolmogorov-Smirnov Test Statistic:\", statistic)\n",
        "print(\"p-value:\", p_value)\n",
        "\n",
        "# Define the CTT (critical test threshold, aka., alpha)\n",
        "alpha = 0.05\n",
        "\n",
        "# Interpret the result\n",
        "if p_value > alpha:\n",
        "    print(\"Sample looks Gaussian (fail to reject H0)\")\n",
        "else:\n",
        "    print(\"Sample does not look Gaussian (reject H0)\")"
      ],
      "metadata": {
        "colab": {
          "base_uri": "https://localhost:8080/"
        },
        "id": "kB6j1egtTRx0",
        "outputId": "0050648d-038e-4524-aad1-ac187709673e"
      },
      "execution_count": null,
      "outputs": [
        {
          "output_type": "stream",
          "name": "stdout",
          "text": [
            "[ 1.43331318 -0.87762465  1.6308805  -1.53906346 -0.79943796  0.64660807\n",
            "  0.6273102  -0.38442447 -1.46411806 -1.60637882  1.38493516 -0.7661593\n",
            " -1.67413038  1.14159842  0.13235643  0.62716648  0.13515869 -0.92163063\n",
            "  1.38777361  0.66480449 -0.18664362  0.45384493  1.56624892 -0.06718921\n",
            " -0.39382938 -0.64052357  0.39582411 -0.53126718  2.32382428 -0.68243569\n",
            " -1.30695406  1.13586507 -2.11880828  0.50718881 -0.59864858 -0.20187158\n",
            "  0.00996795 -0.50831474 -0.31216366  0.85157957 -0.86201447 -0.42580707\n",
            " -1.00403605 -1.54881728  1.50093967  0.08843496 -1.00829199  0.03097758\n",
            "  0.9518804   0.73706366  0.68315112  0.46056486 -0.94042571 -0.7225701\n",
            " -0.35152032  0.47079995 -0.34499591  0.14271707 -0.41870546 -0.42741986\n",
            "  1.13480802 -0.48934844 -0.06756077  0.1344972   1.59502157 -0.37523638\n",
            "  0.21161953  0.78440066  0.53566009 -0.21638248  0.47823809 -0.62832603\n",
            "  0.38375937  0.42476587 -0.12107114  0.4572375   0.64925668 -0.93956189\n",
            "  0.47040411  1.11296491 -0.76057449 -0.06466691  0.25008692 -0.84215466\n",
            "  1.47663454 -0.16694616  0.24710677  0.8492169  -0.59932183 -0.29791822\n",
            "  0.19594192 -1.11821403  1.174867   -1.78230483  1.44722449 -0.84992085\n",
            " -1.14835776 -0.30190646  1.43965707 -0.73064368]\n",
            "\n",
            "\n",
            "      Values\n",
            "0   1.433313\n",
            "1  -0.877625\n",
            "2   1.630880\n",
            "3  -1.539063\n",
            "4  -0.799438\n",
            "..       ...\n",
            "95 -0.849921\n",
            "96 -1.148358\n",
            "97 -0.301906\n",
            "98  1.439657\n",
            "99 -0.730644\n",
            "\n",
            "[100 rows x 1 columns]\n",
            "\n",
            "\n",
            "Kolmogorov-Smirnov Test Statistic: 0.056657152740816535\n",
            "p-value: 0.8869852973926498\n",
            "Sample looks Gaussian (fail to reject H0)\n"
          ]
        }
      ]
    },
    {
      "cell_type": "markdown",
      "source": [
        "## 💿 💿 2️⃣-1️⃣ When you use your csv. file...\n",
        "    Be aware that the following script generates the same result for everyone running it!"
      ],
      "metadata": {
        "id": "reXYftIwIjC0"
      }
    },
    {
      "cell_type": "code",
      "source": [
        "import numpy as np\n",
        "import pandas as pd\n",
        "from scipy.stats import kstest, norm\n",
        "import urllib.request\n",
        "\n",
        "# URL of the CSV file\n",
        "url = 'https://raw.githubusercontent.com/ms624atyale/Data_NLP2024/main/GeneratedSampleData.csv'\n",
        "response = urllib.request.urlopen(url)\n",
        "content = response.read().decode('utf-8')\n",
        "print(content)\n",
        "\n",
        "# Read the CSV data from the URL into a pandas DataFrame\n",
        "df = pd.read_csv(url)\n",
        "\n",
        "# Specify the column name\n",
        "df_final = pd.DataFrame(df, columns=['Values'])\n",
        "print(df_final)\n",
        "print('\\n')\n",
        "\n",
        "# Save the DataFrame to a CSV file with index numbers\n",
        "df_final.to_csv('GeneratedSampleData.csv', index=True)\n",
        "\n",
        "# Extract the column containing the data you want to test\n",
        "data = df_final['Values']\n",
        "\n",
        "# Perform Shapiro-Wilk test for normality\n",
        "statistic, p_value = kstest(data, 'norm')\n",
        "\n",
        "# Print the test statistic and p-value\n",
        "print(\"Kolmogorov-Smirnov Test Statistic:\", statistic)\n",
        "print(\"p-value:\", p_value)\n",
        "\n",
        "# Define the critical test threshold (alpha)\n",
        "alpha = 0.05\n",
        "\n",
        "# Interpret the result\n",
        "if p_value > alpha:\n",
        "    print(\"Sample looks Gaussian (fail to reject H0)\")\n",
        "else:\n",
        "    print(\"Sample does not look Gaussian (reject H0)\")"
      ],
      "metadata": {
        "id": "4j340WzpnBK2",
        "outputId": "c411cb8f-adff-4ac4-f087-48d9dd0e9e78",
        "colab": {
          "base_uri": "https://localhost:8080/"
        }
      },
      "execution_count": null,
      "outputs": [
        {
          "output_type": "stream",
          "name": "stdout",
          "text": [
            ",Values\n",
            "0,-0.26140370535497714\n",
            "1,0.674465529456594\n",
            "2,1.199006619270691\n",
            "3,0.6707446831987965\n",
            "4,0.17259018031985804\n",
            "5,-1.100079042519609\n",
            "6,2.195231656277767\n",
            "7,0.5510303263985642\n",
            "8,1.2609665083636878\n",
            "9,-0.2817066086483786\n",
            "10,-0.053436689783102016\n",
            "11,1.7073266397638478\n",
            "12,-0.17332333414794782\n",
            "13,-0.06610963699188709\n",
            "14,-1.4158000692431818\n",
            "15,0.10413887494346163\n",
            "16,-0.5061882739160055\n",
            "17,3.770949374200536\n",
            "18,-0.025471123323784192\n",
            "19,-1.272504341354252\n",
            "20,0.7384242982778024\n",
            "21,0.2058526779794574\n",
            "22,1.2326940681416174\n",
            "23,0.571824030363047\n",
            "24,0.6904352185673545\n",
            "25,-2.1145662129819365\n",
            "26,-1.2911119038541108\n",
            "27,-1.5708435449401499\n",
            "28,0.192338612500791\n",
            "29,-0.2803028715013271\n",
            "30,-1.2682536727702356\n",
            "31,1.0344238095825893\n",
            "32,1.5449614697097125\n",
            "33,2.0240992668094933\n",
            "34,-0.7035012924435267\n",
            "35,-1.3829325233397136\n",
            "36,-1.426636453869556\n",
            "37,-0.8440400880119733\n",
            "38,1.8565827172320106\n",
            "39,-0.6870165407486853\n",
            "40,1.382695436532822\n",
            "41,0.591449760429834\n",
            "42,-0.2633436514067763\n",
            "43,-0.23701508862948237\n",
            "44,-0.10269213647140327\n",
            "45,0.6888320081690639\n",
            "46,0.31676036924895196\n",
            "47,0.10375931969732914\n",
            "48,1.3714449714201677\n",
            "49,0.05783865849601184\n",
            "50,-1.8531056624716609\n",
            "51,-0.6687369066899477\n",
            "52,-0.5261309953201418\n",
            "53,1.7749476960090886\n",
            "54,-1.6787377140386446\n",
            "55,-0.5026597937692723\n",
            "56,-1.2844088449822464\n",
            "57,2.3113455474924627\n",
            "58,0.6296046198615275\n",
            "59,0.9015972714779167\n",
            "60,0.00454993951987519\n",
            "61,-0.19348991146525407\n",
            "62,1.9665050909044761\n",
            "63,-1.5546442365455102\n",
            "64,-0.40056951814646446\n",
            "65,-0.6299237859984095\n",
            "66,0.09163828696968154\n",
            "67,-0.15637033462762756\n",
            "68,0.12149319813378877\n",
            "69,-0.4102627764297844\n",
            "70,-0.5449748966664201\n",
            "71,-0.7610934589886442\n",
            "72,0.2145283319746021\n",
            "73,0.24483126827625756\n",
            "74,-0.901078824260053\n",
            "75,-0.2897171343204963\n",
            "76,0.28121743677027067\n",
            "77,-0.3537024663086641\n",
            "78,1.7146661950016364\n",
            "79,1.0666522557786138\n",
            "80,-0.5375417037780075\n",
            "81,-0.5307379903934255\n",
            "82,-0.12358848092795403\n",
            "83,1.2755855334667205\n",
            "84,0.6970724861828327\n",
            "85,-0.11612119615335639\n",
            "86,0.041001100234323386\n",
            "87,-0.5082917383357459\n",
            "88,-0.5797660012000004\n",
            "89,0.5294992864338235\n",
            "90,-0.2829730431627781\n",
            "91,0.2748472629003029\n",
            "92,-0.2861709539402205\n",
            "93,-1.0196877395669952\n",
            "94,1.3041006127841448\n",
            "95,-0.5173193666786137\n",
            "96,-0.01747837533659224\n",
            "97,2.1858374060200236\n",
            "98,1.566689655025073\n",
            "99,-2.0404810062310528\n",
            "\n",
            "      Values\n",
            "0  -0.261404\n",
            "1   0.674466\n",
            "2   1.199007\n",
            "3   0.670745\n",
            "4   0.172590\n",
            "..       ...\n",
            "95 -0.517319\n",
            "96 -0.017478\n",
            "97  2.185837\n",
            "98  1.566690\n",
            "99 -2.040481\n",
            "\n",
            "[100 rows x 1 columns]\n",
            "\n",
            "\n",
            "Kolmogorov-Smirnov Test Statistic: 0.0747373141051324\n",
            "p-value: 0.6047553071972323\n",
            "Sample looks Gaussian (fail to reject H0)\n"
          ]
        }
      ]
    },
    {
      "cell_type": "markdown",
      "source": [
        "## 💿 💿 2️⃣-2️⃣ When you use your csv. file...\n",
        "    Be aware that the following script generates the same result for everyone running it!"
      ],
      "metadata": {
        "id": "Vi2ohS-YZTMm"
      }
    },
    {
      "cell_type": "code",
      "source": [
        "import numpy as np\n",
        "import pandas as pd\n",
        "from scipy.stats import kstest, norm\n",
        "\n",
        "\n",
        "file = pd.read_csv('/content/GeneratedSampleData.csv')\n",
        "final_data = file['Values'] # [IMPORTANT] Column name should be specified, otherwise, ValueError occurs.\n",
        "print(final_data)\n",
        "print('\\n')\n",
        "\n",
        "# Convert the data to a pandas DataFrame\n",
        "df = pd.DataFrame(final_data, columns=['Values'])\n",
        "print(df)\n",
        "print('\\n')\n",
        "\n",
        "# Perform Shapiro-Wilk test for normality\n",
        "statistic, p_value = kstest(final_data, 'norm')\n",
        "\n",
        "# Print the test statistic and p-value\n",
        "print(\"Kolmogorov-Smirnov Test Statistic:\", statistic)\n",
        "print(\"p-value:\", p_value)\n",
        "\n",
        "# Interpret the result\n",
        "alpha = 0.05\n",
        "if p_value > alpha:\n",
        "    print(\"Sample looks Gaussian (fail to reject H0)\")\n",
        "else:\n",
        "    print(\"Sample does not look Gaussian (reject H0)\")"
      ],
      "metadata": {
        "colab": {
          "base_uri": "https://localhost:8080/"
        },
        "id": "c8dBwGSciiEl",
        "outputId": "91fbc279-0baa-4bfa-9648-3fb72d0801fd"
      },
      "execution_count": null,
      "outputs": [
        {
          "output_type": "stream",
          "name": "stdout",
          "text": [
            "0    -0.261404\n",
            "1     0.674466\n",
            "2     1.199007\n",
            "3     0.670745\n",
            "4     0.172590\n",
            "        ...   \n",
            "95   -0.517319\n",
            "96   -0.017478\n",
            "97    2.185837\n",
            "98    1.566690\n",
            "99   -2.040481\n",
            "Name: Values, Length: 100, dtype: float64\n",
            "\n",
            "\n",
            "      Values\n",
            "0  -0.261404\n",
            "1   0.674466\n",
            "2   1.199007\n",
            "3   0.670745\n",
            "4   0.172590\n",
            "..       ...\n",
            "95 -0.517319\n",
            "96 -0.017478\n",
            "97  2.185837\n",
            "98  1.566690\n",
            "99 -2.040481\n",
            "\n",
            "[100 rows x 1 columns]\n",
            "\n",
            "\n",
            "Kolmogorov-Smirnov Test Statistic: 0.0747373141051324\n",
            "p-value: 0.6047553071972323\n",
            "Sample looks Gaussian (fail to reject H0)\n"
          ]
        }
      ]
    },
    {
      "cell_type": "code",
      "source": [
        "import numpy as np\n",
        "import pandas as pd\n",
        "import matplotlib.pyplot as plt\n",
        "from scipy.stats import kstest, norm\n",
        "\n",
        "# Load the data from the CSV file\n",
        "file = pd.read_csv('/content/GeneratedSampleData.csv')\n",
        "final_data = file['Values']  # Extract the column containing the data\n",
        "\n",
        "# Perform Kolmogorov-Smirnov test for normality\n",
        "statistic, p_value = kstest(final_data, 'norm')\n",
        "\n",
        "# Print the test statistic and p-value\n",
        "print(\"Kolmogorov-Smirnov Test Statistic:\", statistic)\n",
        "print(\"p-value:\", p_value)\n",
        "\n",
        "# Define the CTT (critical test threshold, aka., alpha)\n",
        "alpha = 0.05\n",
        "\n",
        "# Interpret the result\n",
        "if p_value > alpha:\n",
        "    print(\"Sample looks Gaussian (fail to reject H0)\")\n",
        "else:\n",
        "    print(\"Sample does not look Gaussian (reject H0)\")\n",
        "\n",
        "# Plot histogram of the data\n",
        "plt.figure(figsize=(10, 6))\n",
        "sns.histplot(final_data, kde=True, color='skyblue', stat='density')\n",
        "\n",
        "# Plot normal distribution curve\n",
        "mu, sigma = np.mean(final_data), np.std(final_data)\n",
        "x = np.linspace(mu - 3*sigma, mu + 3*sigma, 100)\n",
        "plt.plot(x, norm.pdf(x, mu, sigma), 'r-', label='Normal Distribution')\n",
        "\n",
        "plt.xlabel('Data')\n",
        "plt.ylabel('Density')\n",
        "plt.title('Histogram of Data with Normal Distribution')\n",
        "plt.legend()\n",
        "plt.show()"
      ],
      "metadata": {
        "colab": {
          "base_uri": "https://localhost:8080/",
          "height": 616
        },
        "id": "Z9qyDf725sgH",
        "outputId": "1e055f28-2b86-4680-d258-79acaa1b7f4c"
      },
      "execution_count": null,
      "outputs": [
        {
          "output_type": "stream",
          "name": "stdout",
          "text": [
            "Kolmogorov-Smirnov Test Statistic: 0.0747373141051324\n",
            "p-value: 0.6047553071972323\n",
            "Sample looks Gaussian (fail to reject H0)\n"
          ]
        },
        {
          "output_type": "display_data",
          "data": {
            "text/plain": [
              "<Figure size 1000x600 with 1 Axes>"
            ],
            "image/png": "[encoded data removed]"
          },
          "metadata": {}
        }
      ]
    },
    {
      "cell_type": "markdown",
      "source": [
        "## ➡️ T-test (with either SW test or KS test, p>0.05)\n",
        "## ➡️➡️ Wilcoxon Rank Sum text (with either SW test or KS test, p<0.05)"
      ],
      "metadata": {
        "id": "P3pOREs73Bnf"
      }
    }
  ]
}